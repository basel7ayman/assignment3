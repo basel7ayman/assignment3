{
 "cells": [
  {
   "cell_type": "markdown",
   "metadata": {},
   "source": [
    "# Assignment 3"
   ]
  },
  {
   "cell_type": "markdown",
   "metadata": {},
   "source": [
    "### Write a function to count the number 4 in a given list."
   ]
  },
  {
   "cell_type": "code",
   "execution_count": 115,
   "metadata": {},
   "outputs": [
    {
     "name": "stdout",
     "output_type": "stream",
     "text": [
      "7\n",
      "2\n"
     ]
    }
   ],
   "source": [
    "lst1 = [1,2,3,4,4,4,5,6,7,1,4,4,4,1,2,3,4]\n",
    "lst2 = [1,2,3,4,5,6,7,8,9,8,7,6,5,4,3,2,1]\n",
    "\n",
    "def count(s):\n",
    "    x = 0\n",
    "    for i in range(0,len(s)):\n",
    "        if s[i] == 4:\n",
    "            x += 1\n",
    "    return x\n",
    "    \n",
    "print(count(lst1))\n",
    "print(count(lst2))"
   ]
  },
  {
   "cell_type": "markdown",
   "metadata": {},
   "source": [
    "### write a  function to check whether a number is divisible by another number."
   ]
  },
  {
   "cell_type": "code",
   "execution_count": 11,
   "metadata": {},
   "outputs": [
    {
     "name": "stdout",
     "output_type": "stream",
     "text": [
      "the first num is divisible by the second one\n"
     ]
    }
   ],
   "source": [
    "def check(x,y):\n",
    "    if x % y == 0:\n",
    "        print('the first num is divisible by the second one')\n",
    "    else:\n",
    "        print('the first num is not divisible by the second one')\n",
    "check(20,2)\n",
    "        \n",
    "    "
   ]
  },
  {
   "cell_type": "markdown",
   "metadata": {},
   "source": [
    "### write a function to find the maximum and minimum numbers from a sequence of numbers."
   ]
  },
  {
   "cell_type": "code",
   "execution_count": 120,
   "metadata": {},
   "outputs": [
    {
     "name": "stdout",
     "output_type": "stream",
     "text": [
      "(-4, 9)\n",
      "(1, 10)\n"
     ]
    }
   ],
   "source": [
    "a = [-4,-2,-1,0,1,2,3,4,5,6,7,8,9]\n",
    "b = [1,2,3,4,5,6,7,8,9,10]\n",
    "\n",
    "def max_min(lst):\n",
    "    return min(lst) , max(lst)\n",
    "\n",
    "print(max_min(a))\n",
    "print(max_min(b))"
   ]
  },
  {
   "cell_type": "markdown",
   "metadata": {},
   "source": [
    "### Write a Python function that takes two lists and returns True if they have at least one common member."
   ]
  },
  {
   "cell_type": "code",
   "execution_count": 132,
   "metadata": {},
   "outputs": [
    {
     "data": {
      "text/plain": [
       "True"
      ]
     },
     "execution_count": 132,
     "metadata": {},
     "output_type": "execute_result"
    }
   ],
   "source": [
    "a = [1,5,2,3,4]\n",
    "b = [4,5,6,7]\n",
    "def common(a,b):\n",
    "    c = set(a)\n",
    "    d = set(b)\n",
    "    for i in range(0,len(a)+1):\n",
    "        if len(c.intersection(d)) >= 1:\n",
    "            return True\n",
    "        else:\n",
    "            return False\n",
    "        \n",
    "common(a,b)    "
   ]
  },
  {
   "cell_type": "markdown",
   "metadata": {},
   "source": [
    "### Write a Python function to calculate the factorial of a number (a non-negative integer). The function accepts the number from the user"
   ]
  },
  {
   "cell_type": "code",
   "execution_count": 112,
   "metadata": {},
   "outputs": [
    {
     "name": "stdout",
     "output_type": "stream",
     "text": [
      "1\n",
      "2\n",
      "6\n",
      "24\n",
      "120\n"
     ]
    }
   ],
   "source": [
    "def fact(x):\n",
    "    if x > 0:\n",
    "        for i in range(1,x):\n",
    "            x = x*i\n",
    "            \n",
    "    else:\n",
    "        print('Error')\n",
    "    return x\n",
    "print(fact(1))\n",
    "print(fact(2))\n",
    "print(fact(3))\n",
    "print(fact(4))\n",
    "print(fact(5))\n"
   ]
  },
  {
   "cell_type": "markdown",
   "metadata": {},
   "source": [
    "### Write a Python function to check whether a number is in a given range.\n",
    "\n",
    "### The range is from 3 to 11\n"
   ]
  },
  {
   "cell_type": "code",
   "execution_count": 110,
   "metadata": {},
   "outputs": [
    {
     "name": "stdout",
     "output_type": "stream",
     "text": [
      "True\n",
      "False\n"
     ]
    }
   ],
   "source": [
    "def rang(x):\n",
    "    if x>=3 and x<=11:\n",
    "        return True\n",
    "    else:\n",
    "        return False\n",
    "        \n",
    "print(rang(7))\n",
    "\n",
    "print(rang(70))\n",
    "    "
   ]
  },
  {
   "cell_type": "markdown",
   "metadata": {},
   "source": [
    "### Write a  program to create the multiplication table (from 1 to 10) of a number."
   ]
  },
  {
   "cell_type": "code",
   "execution_count": 87,
   "metadata": {},
   "outputs": [
    {
     "name": "stdout",
     "output_type": "stream",
     "text": [
      "5\n",
      "10\n",
      "15\n",
      "20\n",
      "25\n",
      "30\n",
      "35\n",
      "40\n",
      "45\n",
      "50\n"
     ]
    }
   ],
   "source": [
    "def multi(x):\n",
    "    for i in range(1,11):\n",
    "        print(x * i)\n",
    "multi(5)    "
   ]
  },
  {
   "cell_type": "markdown",
   "metadata": {},
   "source": [
    "#### LESSER OF TWO EVENS: Write a function that returns the lesser of two given numbers *if* both numbers are even, but returns the greater if one or both numbers are odd\n",
    "    lesser_of_two_evens(2,4) --> 2\n",
    "    lesser_of_two_evens(2,5) --> 5"
   ]
  },
  {
   "cell_type": "code",
   "execution_count": 109,
   "metadata": {},
   "outputs": [
    {
     "name": "stdout",
     "output_type": "stream",
     "text": [
      "10\n",
      "7\n"
     ]
    }
   ],
   "source": [
    "def lesser(x,y):\n",
    "    if x % 2 == 0 and y % 2 ==0:\n",
    "        if x < y:\n",
    "            return x\n",
    "        else:\n",
    "            return y\n",
    "    else:\n",
    "        if x > y:\n",
    "            return x\n",
    "        else:\n",
    "            return y\n",
    "print(lesser(10,12))\n",
    "print(lesser(2,7))\n"
   ]
  },
  {
   "cell_type": "markdown",
   "metadata": {},
   "source": [
    "#### ANIMAL CRACKERS: Write a function takes a two-word string and returns True if both words begin with same letter\n",
    "    animal_crackers('Levelheaded Llama') --> True\n",
    "    animal_crackers('Crazy Kangaroo') --> False"
   ]
  },
  {
   "cell_type": "code",
   "execution_count": 107,
   "metadata": {},
   "outputs": [
    {
     "name": "stdout",
     "output_type": "stream",
     "text": [
      "True\n",
      "False\n"
     ]
    }
   ],
   "source": [
    "def animal_crackers(x , y):\n",
    "    x.split()\n",
    "    y.split()\n",
    "    for i in range(0,1):\n",
    "        if x[i] == y[i]:\n",
    "            return True\n",
    "        else:\n",
    "            return False\n",
    "        \n",
    "print(animal_crackers('ate' , 'apple'))    \n",
    "print(animal_crackers('fast' , 'apple'))"
   ]
  },
  {
   "cell_type": "markdown",
   "metadata": {},
   "source": [
    "#### MAKES TWENTY: Given two integers, return True if the sum of the integers is 20 *or* if one of the integers is 20. If not, return False\n",
    "\n",
    "    makes_twenty(20,10) --> True\n",
    "    makes_twenty(12,8) --> True\n",
    "    makes_twenty(2,3) --> False"
   ]
  },
  {
   "cell_type": "code",
   "execution_count": 106,
   "metadata": {},
   "outputs": [
    {
     "name": "stdout",
     "output_type": "stream",
     "text": [
      "True\n",
      "False\n"
     ]
    }
   ],
   "source": [
    "def makes_twenty(x,y):\n",
    "    if x + y == 20:\n",
    "        return True\n",
    "    elif x == 20 or y == 20:\n",
    "        return True\n",
    "    else:\n",
    "        return False\n",
    "print(makes_twenty(1,20))\n",
    "print(makes_twenty(1,12))\n"
   ]
  },
  {
   "cell_type": "markdown",
   "metadata": {},
   "source": [
    "#### ALMOST THERE: Given an integer n, return True if n is within 10 of either 100 or 200\n",
    "\n",
    "    almost_there(90) --> True\n",
    "    almost_there(104) --> True\n",
    "    almost_there(150) --> False\n",
    "    almost_there(209) --> True\n",
    "    \n",
    "NOTE: `abs(num)` returns the absolute value of a number"
   ]
  },
  {
   "cell_type": "code",
   "execution_count": 151,
   "metadata": {},
   "outputs": [
    {
     "data": {
      "text/plain": [
       "True"
      ]
     },
     "execution_count": 151,
     "metadata": {},
     "output_type": "execute_result"
    }
   ],
   "source": [
    "def almost_there(x):\n",
    "    x = abs(x)\n",
    "    if x >=90 and x <= 110:\n",
    "        return True\n",
    "    elif x >=190 and x <= 210:\n",
    "        return True\n",
    "    else:\n",
    "        return False\n",
    "almost_there(109)"
   ]
  },
  {
   "cell_type": "markdown",
   "metadata": {},
   "source": [
    "#### BLACKJACK: Given three integers between 1 and 11, if their sum is less than or equal to 21, return their sum. If their sum exceeds 21 *and* there's an eleven, reduce the total sum by 10. Finally, if the sum  exceeds 21, return 'BUST'\n",
    "    blackjack(5,6,7) --> 18\n",
    "    blackjack(9,9,9) --> 'BUST'\n",
    "    blackjack(9,9,11) --> 19"
   ]
  },
  {
   "cell_type": "code",
   "execution_count": 149,
   "metadata": {},
   "outputs": [
    {
     "name": "stdout",
     "output_type": "stream",
     "text": [
      "23\n",
      "6\n",
      "BUST\n"
     ]
    }
   ],
   "source": [
    "def black_jack(x,y,z):\n",
    "    if x + y + z <= 21:\n",
    "        return x + y + z\n",
    "    elif x + y + z > 21 and x == 11 or y == 11 or z == 11:\n",
    "        return x + y + z - 10\n",
    "    else:\n",
    "        return 'BUST'\n",
    "print(black_jack(20,2,11))\n",
    "print(black_jack(1,2,3))\n",
    "print(black_jack(2,10,20))"
   ]
  },
  {
   "cell_type": "code",
   "execution_count": null,
   "metadata": {},
   "outputs": [],
   "source": []
  }
 ],
 "metadata": {
  "kernelspec": {
   "display_name": "Python 3 (ipykernel)",
   "language": "python",
   "name": "python3"
  },
  "language_info": {
   "codemirror_mode": {
    "name": "ipython",
    "version": 3
   },
   "file_extension": ".py",
   "mimetype": "text/x-python",
   "name": "python",
   "nbconvert_exporter": "python",
   "pygments_lexer": "ipython3",
   "version": "3.9.12"
  }
 },
 "nbformat": 4,
 "nbformat_minor": 2
}
